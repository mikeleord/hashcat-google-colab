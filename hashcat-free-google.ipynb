{
  "nbformat": 4,
  "nbformat_minor": 0,
  "metadata": {
    "colab": {
      "name": "Untitled1.ipynb",
      "provenance": []
    },
    "kernelspec": {
      "name": "python3",
      "display_name": "Python 3"
    },
    "accelerator": "GPU"
  },
  "cells": [
    {
      "cell_type": "markdown",
      "metadata": {
        "id": "srKrunYEt4pw"
      },
      "source": [
        "Change \"Runtime\", \"change runtime type\" select \"GPU\""
      ]
    },
    {
      "cell_type": "markdown",
      "metadata": {
        "id": "BekaRKhBsz5w"
      },
      "source": [
        "Install Hashcat"
      ]
    },
    {
      "cell_type": "code",
      "metadata": {
        "id": "rZPIuHRHs2Jg"
      },
      "source": [
        "!apt install cmake build-essential -y && apt install checkinstall git -y && git clone https://github.com/hashcat/hashcat.git && cd hashcat && git submodule update --init && make && make install"
      ],
      "execution_count": null,
      "outputs": []
    },
    {
      "cell_type": "markdown",
      "metadata": {
        "id": "Z2rmx-q7s3kI"
      },
      "source": [
        "In this example crack Apache htpasswd sha1 password!\n",
        "Change this command with your exigence, remember, the command start whit !hashcat\n",
        "My command, example:"
      ]
    },
    {
      "cell_type": "code",
      "metadata": {
        "id": "xQg9vrNNs-R0"
      },
      "source": [
        "!hashcat -m 101 -a 3 -O -w 3 -i --increment-min=6 {SHA}RsPZYvMUUrlwBp6Wum10G0/SdqU= ?a?a?a?a?a?a?a?a?a?a?a?a"
      ],
      "execution_count": null,
      "outputs": []
    },
    {
      "cell_type": "markdown",
      "metadata": {
        "id": "RLNPi7oguIFQ"
      },
      "source": [
        "press ctrl + F9 or  \"Runtime\", \"Run all\""
      ]
    }
  ]
}
